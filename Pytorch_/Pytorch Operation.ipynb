{
 "cells": [
  {
   "cell_type": "markdown",
   "id": "e3289263",
   "metadata": {},
   "source": [
    "# Math Operation"
   ]
  },
  {
   "cell_type": "markdown",
   "id": "be9a5481",
   "metadata": {},
   "source": [
    "* dot : 벡터 내적 \n",
    "\n",
    "* mv : 행렬과 벡터의 곱\n",
    "\n",
    "* mm : 행렬과 행렬의 곱\n",
    "\n",
    "* matmul : 인수의 종류에 따라서 자동으로 dot, mv, mm을 선택"
   ]
  },
  {
   "cell_type": "code",
   "execution_count": 4,
   "id": "5b389089",
   "metadata": {},
   "outputs": [],
   "source": [
    "import torch\n",
    "\n",
    "a = torch.tensor([1,2,3,4,5,6]).view(3,2)\n",
    "\n",
    "b = torch.tensor([9,8,7,6,5,4]).view(2,3)\n",
    "\n",
    "ab = torch.matmul(a,b)\n",
    "\n",
    "ab = a @ b"
   ]
  },
  {
   "cell_type": "markdown",
   "id": "2958ced0",
   "metadata": {},
   "source": [
    "* Tensor의 산술 연산 방법에 대하여 알아보겠습니다.\n",
    "\n",
    "* + 연산자 또는 torch.add()"
   ]
  },
  {
   "cell_type": "code",
   "execution_count": 5,
   "id": "13363c81",
   "metadata": {},
   "outputs": [
    {
     "name": "stdout",
     "output_type": "stream",
     "text": [
      "tensor([[ 2.,  4.,  6.],\n",
      "        [ 8., 10., 12.]])\n"
     ]
    }
   ],
   "source": [
    "x1 = torch.FloatTensor([[1,2,3], [4,5,6]])\n",
    "x2 = torch.FloatTensor([[1,2,3], [4,5,6]])\n",
    "\n",
    "add = x1 + x2\n",
    "\n",
    "print(add)"
   ]
  },
  {
   "cell_type": "markdown",
   "id": "f7576928",
   "metadata": {},
   "source": [
    "* + 연산자를 이용한 broadcasting 또는 torch.add() with broadcasting"
   ]
  },
  {
   "cell_type": "code",
   "execution_count": 10,
   "id": "28ec723d",
   "metadata": {},
   "outputs": [
    {
     "data": {
      "text/plain": [
       "tensor([[11., 12., 13.],\n",
       "        [14., 15., 16.]])"
      ]
     },
     "execution_count": 10,
     "metadata": {},
     "output_type": "execute_result"
    }
   ],
   "source": [
    "x1 = torch.FloatTensor([[1,2,3], [4,5,6]])\n",
    "\n",
    "x1 + 10\n",
    "\n",
    "# torch.add(x1, 10)"
   ]
  },
  {
   "cell_type": "markdown",
   "id": "698f2635",
   "metadata": {},
   "source": [
    "* '*' 연산자 또는 torch.mul()"
   ]
  },
  {
   "cell_type": "code",
   "execution_count": 14,
   "id": "33bc7a53",
   "metadata": {},
   "outputs": [
    {
     "data": {
      "text/plain": [
       "tensor([[ 1.,  4.,  9.],\n",
       "        [16., 25., 36.]])"
      ]
     },
     "execution_count": 14,
     "metadata": {},
     "output_type": "execute_result"
    }
   ],
   "source": [
    "x1 = torch.FloatTensor([[1,2,3], [4,5,6]])\n",
    "\n",
    "x1*10\n",
    "\n",
    "torch.mul(x1,x2)"
   ]
  },
  {
   "cell_type": "markdown",
   "id": "f994bd3b",
   "metadata": {},
   "source": [
    "* '*' 연산자를 이용한 broadcasting 또는 torch.mul() with broadcasting"
   ]
  },
  {
   "cell_type": "code",
   "execution_count": 13,
   "id": "0b14ada0",
   "metadata": {},
   "outputs": [
    {
     "data": {
      "text/plain": [
       "tensor([[1., 1., 1.],\n",
       "        [1., 1., 1.]])"
      ]
     },
     "execution_count": 13,
     "metadata": {},
     "output_type": "execute_result"
    }
   ],
   "source": [
    "x1 = torch.FloatTensor([[1,2,3], [4,5,6]])\n",
    "x2 = torch.FloatTensor([[1,2,3], [4,5,6]])\n",
    "\n",
    "x1 / x2\n",
    "\n",
    "torch.div(x1, x2)"
   ]
  },
  {
   "cell_type": "markdown",
   "id": "be38d451",
   "metadata": {},
   "source": [
    "* power 연산 : torch.pow(input, exponent)"
   ]
  },
  {
   "cell_type": "code",
   "execution_count": 16,
   "id": "d1e97f70",
   "metadata": {},
   "outputs": [
    {
     "data": {
      "text/plain": [
       "tensor([[ 1.,  4.,  9.],\n",
       "        [16., 25., 36.]])"
      ]
     },
     "execution_count": 16,
     "metadata": {},
     "output_type": "execute_result"
    }
   ],
   "source": [
    "x1 = torch.FloatTensor([[1,2,3], [4,5,6]])\n",
    "\n",
    "x1 ** 2\n",
    "\n",
    "torch.pow(x1, 2)"
   ]
  },
  {
   "cell_type": "markdown",
   "id": "7a14fe8d",
   "metadata": {},
   "source": [
    "* exponentioal 연산 : torch.exp(tensor, out=None)"
   ]
  },
  {
   "cell_type": "code",
   "execution_count": 17,
   "id": "55d74693",
   "metadata": {},
   "outputs": [
    {
     "data": {
      "text/plain": [
       "tensor([[  2.7183,   7.3891,  20.0855],\n",
       "        [ 54.5981, 148.4132, 403.4288]])"
      ]
     },
     "execution_count": 17,
     "metadata": {},
     "output_type": "execute_result"
    }
   ],
   "source": [
    "x1 = torch.FloatTensor([[1,2,3], [4,5,6]])\n",
    "\n",
    "torch.exp(x1)"
   ]
  },
  {
   "cell_type": "code",
   "execution_count": 18,
   "id": "0cd308f3",
   "metadata": {},
   "outputs": [
    {
     "data": {
      "text/plain": [
       "tensor([[0.0000, 0.6931, 1.0986],\n",
       "        [1.3863, 1.6094, 1.7918]])"
      ]
     },
     "execution_count": 18,
     "metadata": {},
     "output_type": "execute_result"
    }
   ],
   "source": [
    "x1 = torch.FloatTensor([[1,2,3], [4,5,6]])\n",
    "\n",
    "torch.log(x1)"
   ]
  },
  {
   "cell_type": "markdown",
   "id": "a8fef1a8",
   "metadata": {},
   "source": [
    "##### torch.mm(mat1, mat2) -> matrix multiplication\n",
    "##### Tensor(행렬)의 곱을 연산하므로 shape이 잘 맞아야 연산이 가능합니다. "
   ]
  },
  {
   "cell_type": "code",
   "execution_count": 19,
   "id": "66752be4",
   "metadata": {},
   "outputs": [
    {
     "data": {
      "text/plain": [
       "torch.Size([3, 5])"
      ]
     },
     "execution_count": 19,
     "metadata": {},
     "output_type": "execute_result"
    }
   ],
   "source": [
    "x1 = torch.FloatTensor(3,4)\n",
    "x2 = torch.FloatTensor(4,5)\n",
    "\n",
    "torch.mm(x1,x2).size()"
   ]
  },
  {
   "cell_type": "markdown",
   "id": "17faea1f",
   "metadata": {},
   "source": [
    "##### torch.bmm(batch1, batch2) -> batch matrix multiplication \n",
    "\n",
    "* Tensor(행렬)의 곱을 batch 단위로 처리합니다. torch.mm에서는 단일 Tensor(행렬)로 계산을 한 반면에 batch 단위로 한번에 처리하므로 좀 더 효율적입니다. "
   ]
  },
  {
   "cell_type": "code",
   "execution_count": 22,
   "id": "0968434e",
   "metadata": {},
   "outputs": [
    {
     "data": {
      "text/plain": [
       "torch.Size([10, 3, 5])"
      ]
     },
     "execution_count": 22,
     "metadata": {},
     "output_type": "execute_result"
    }
   ],
   "source": [
    "x1 = torch.FloatTensor(10,3,4)\n",
    "x2 = torch.FloatTensor(10,4,5)\n",
    "\n",
    "torch.bmm(x1,x2).size()"
   ]
  },
  {
   "cell_type": "markdown",
   "id": "a4bf2cf8",
   "metadata": {},
   "source": [
    "* torch.t()를 이용하면 transposed tensor를 구할 수 있다."
   ]
  },
  {
   "cell_type": "code",
   "execution_count": 26,
   "id": "9a8e30e3",
   "metadata": {},
   "outputs": [
    {
     "name": "stdout",
     "output_type": "stream",
     "text": [
      "torch.Size([2, 3])\n",
      "torch.Size([3, 2])\n"
     ]
    }
   ],
   "source": [
    "x1 = torch.FloatTensor(2,3)\n",
    "x2 = x1.t()\n",
    "\n",
    "print(x1.size())\n",
    "print(x2.size())"
   ]
  },
  {
   "cell_type": "markdown",
   "id": "ae4089a6",
   "metadata": {},
   "source": [
    "* 반면 torch.transpose()를 이용하여 특정 dimension을 변경할 수 있습니다."
   ]
  },
  {
   "cell_type": "code",
   "execution_count": 30,
   "id": "35d5ed91",
   "metadata": {},
   "outputs": [
    {
     "data": {
      "text/plain": [
       "torch.Size([10, 3, 5, 4])"
      ]
     },
     "execution_count": 30,
     "metadata": {},
     "output_type": "execute_result"
    }
   ],
   "source": [
    "x1 = torch.FloatTensor(10,3,4,5)\n",
    "x1.size()\n",
    "\n",
    "torch.transpose(x1,1,2).size()\n",
    "\n",
    "torch.transpose(x1,2,3).size()"
   ]
  },
  {
   "cell_type": "markdown",
   "id": "87b3b09b",
   "metadata": {},
   "source": [
    "* eigenvalue와 eigenvector 를 구하는 방법은 아래와 같다. \n",
    "\n",
    "* 출력은 각각 eigenvalue와 eigenvector 입니다."
   ]
  },
  {
   "cell_type": "code",
   "execution_count": 32,
   "id": "44eb28ac",
   "metadata": {},
   "outputs": [],
   "source": [
    "x1 = torch.FloatTensor(4,4)"
   ]
  }
 ],
 "metadata": {
  "kernelspec": {
   "display_name": "Python 3 (ipykernel)",
   "language": "python",
   "name": "python3"
  },
  "language_info": {
   "codemirror_mode": {
    "name": "ipython",
    "version": 3
   },
   "file_extension": ".py",
   "mimetype": "text/x-python",
   "name": "python",
   "nbconvert_exporter": "python",
   "pygments_lexer": "ipython3",
   "version": "3.9.13"
  }
 },
 "nbformat": 4,
 "nbformat_minor": 5
}
